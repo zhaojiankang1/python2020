
1."有四个数字：1、2、3、4，能组成多少个互不相同且无重复数字的三位数？各是多少？"
 a=['1','2','3','4']
 b=[]
 for i in a:
    print(i)
    for j in [x for x in a if x!=i]:
        print(j)
        for k in[x for x in a if x!=i and x!=j]:
          print(k)
          b.append(int(i+j+k))
 print(b)
 print('能组成%s个互不相同且无重复数字的三位数'%len(b))




2."企业发放的奖金根据利润提成。利润(I)低于或等于10万元时，奖金可提10%；利润高于10万元，低于20万元时，低于10万元的部分按10%提成，高于10万元的部分，可提成7.5%；20万到40万之间时，高于20万元的部分，可提成5%；40万到60万之间时高于40万元的部分，可提成3%；60万到100万之间时，高于60万元的部分，可提成1.5%，高于100万元时，超过100万元的部分按1%提成，从键盘输入当月利润I，求应发放奖金总数？"
  num=input("请输入当月利润:(unit is million)\n")
  num2=float(num) 
  if num2<=0:
      print("输入有误!")
  elif num2<=10:
      print ("奖金为%f元."%(num2*1.1),end=" ")
  elif num2<=20:
       print ("奖金为%f元."%(11+(num2-10)*1.075),end=" ")
  elif num2<=40:
      print ("奖金为%f元."%(21.75+(num2-20)*1.05),end=" ")
  elif num2<=60:
      print ("奖金为%f元."%(42.75+(num2-40)*1.03),end=" ")
  elif num2<=100:
      print ("奖金为%f元."%(63.35+(num2-60)*1.015),end=" ")
  else:
      print ("奖金为%f元."%(103.95+(num2-100)*1.01),end=" ")





3."输入三个整数x,y,z，请把这三个数由小到大输出"
  x = int(input("请输入第一个数: "))
  y = int(input("请输入第二个数: "))
  z = int(input("请输入第三个数: "))

  if x > y:
      x, y = y, x
  if x > z:
      x, z = z, x
  if y > z:
      y, z = z, y
   print(x, y, z)




 4."将一个列表的数据复制到另一个列表中"
    def clonelist(li1):
    li_copy = list(li1)
    return li_copy
    li1 = [1, 2, 3, 4, 5,6]
    li2 = clonelist(li1)
    print("原始列表:", li1)
    print("复制后列表:", li2)




 5."暂停一秒输出,并格式化当前时间。使用 time 模块的 sleep() 函数。"
    import time
    print(time.strftime("%Y-%m-%d %H:%M:%S", time.localtime()))
     time.sleep(1)
    print(time.strftime("%Y-%m-%d %H:%M:%S", time.localtime()))




 6."打印出所有的\"水仙花数\"，所谓\"水仙花数\"是指一个三位数，其各位数字立方和等于该数本身。例如：153是一个\"水仙花数\"，因为153=1的三次方＋5的三次方＋3的三次方。"
   count = 0
   for i in range(100, 1000):
   f = i
   a = int(f / 100)
   f -= a*100
   b = int(f / 10)
   c = f - b*10
   if a**3 + b**3 + c**3 == i:
        print(i)
        count += 1
   print("共有 %d 个水仙花数" % count)
   


   
7. "输入一行字符，分别统计出其中英文字母、空格、数字和其它字符的个数。"
    def classify_count2(arg):
    letters_num,table_num,figure_num,other_num=0,0,0,0
    for i in arg:
        if i.isalpha():
            letters_num+=1
        elif i.isdigit():
            figure_num+=1
        elif i.isspace():
            table_num+=1
        else:
            other_num+=1
    print("字符串中字母个数为：{}，空格个数为：{}，数字个数为：{}，其他字符个数为：{}".format(letters_num,table_num,figure_num,other_num))
    if __name__ == '__main__':
    classify_count2("sjakhu（）*#")




 8."一球从100米高度自由落下，每次落地后反跳回原高度的一半；再落下，求它在第10次落地时，共经过多少米？第10次反弹多高？"
   times = 10
   height_sum = 100
   height_list = [100]
   for i in range(1, times):
    height_list.append(height_list[i-1] / 2)
    height_sum += height_list[i] * 2
   print("第10次落地时，共经过 %f 米" % height_sum)
   print("第10次反弹 %.8f 米" % (height_list[times - 1] / 2))



